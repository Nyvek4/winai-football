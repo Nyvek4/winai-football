{
 "cells": [
  {
   "cell_type": "code",
   "execution_count": 1,
   "metadata": {},
   "outputs": [],
   "source": [
    "## Imports\n",
    "import os\n",
    "import sys\n",
    "import time\n",
    "import json\n"
   ]
  },
  {
   "cell_type": "markdown",
   "metadata": {},
   "source": [
    "## Data importation"
   ]
  },
  {
   "cell_type": "code",
   "execution_count": 2,
   "metadata": {},
   "outputs": [],
   "source": [
    "## Paths\n",
    "dirname = os.getcwd()\n",
    "rel_dataset_export_path = 'OneDrive - Association Cesi Viacesi mail/Bureau/Projects/winAi/Datasets/processed/stats-bomb'\n",
    "dataset_export_path = os.path.join(dirname, rel_dataset_export_path)"
   ]
  },
  {
   "cell_type": "code",
   "execution_count": 3,
   "metadata": {},
   "outputs": [
    {
     "name": "stdout",
     "output_type": "stream",
     "text": [
      "Loading dataset from C:\\Users\\NyveK\\OneDrive - Association Cesi Viacesi mail/Bureau/Projects/winAi/Datasets/processed/stats-bomb\\20240805-1441_matches_stats.csv\n"
     ]
    }
   ],
   "source": [
    "## Load the most recent dataset\n",
    "dataset_files = os.listdir(dataset_export_path)\n",
    "dataset_files.sort()\n",
    "dataset_file = dataset_files[-1]\n",
    "dataset_path = os.path.join(dataset_export_path, dataset_file)\n",
    "\n",
    "print(f\"Loading dataset from {dataset_path}\")"
   ]
  }
 ],
 "metadata": {
  "kernelspec": {
   "display_name": "Python 3 (ipykernel)",
   "language": "python",
   "name": "python3"
  },
  "language_info": {
   "codemirror_mode": {
    "name": "ipython",
    "version": 3
   },
   "file_extension": ".py",
   "mimetype": "text/x-python",
   "name": "python",
   "nbconvert_exporter": "python",
   "pygments_lexer": "ipython3",
   "version": "3.10.9"
  }
 },
 "nbformat": 4,
 "nbformat_minor": 2
}
